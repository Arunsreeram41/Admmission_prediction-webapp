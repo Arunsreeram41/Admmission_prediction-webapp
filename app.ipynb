{
 "cells": [
  {
   "cell_type": "code",
   "execution_count": 15,
   "id": "0b230edd",
   "metadata": {},
   "outputs": [],
   "source": [
    "import pickle\n",
    "from flask import Flask,render_template,request"
   ]
  },
  {
   "cell_type": "code",
   "execution_count": 16,
   "id": "d736d0ea",
   "metadata": {},
   "outputs": [],
   "source": [
    "app=Flask(__name__,static_url_path='/static')\n",
    "\n",
    "#loading model\n",
    "model=pickle.load(open('model.pkl','rb'))#rb->read binary\n",
    "\n",
    "@app.route(\"/\")\n",
    "def page():\n",
    "    return render_template('index.html') #run html file\n",
    "\n",
    "@app.route(\"/linear\",methods=['POST'])\n",
    "def linear():\n",
    "    \n",
    "    if request.method== \"POST\":\n",
    "        GRE=request.form['gre']\n",
    "        TOEFL=request.form['toefl']\n",
    "        University=request.form['univ']\n",
    "        SOP=request.form['sop']\n",
    "        LOR=request.form['lor']\n",
    "        CGPA=request.form['cgpa']\n",
    "        Research=request.form['res']\n",
    "        \n",
    "        lst=[[GRE,TOEFL,University,SOP,LOR,CGPA,Research]]\n",
    "        #predicting with Test Set\n",
    "        y_pred = model.predict(lst)\n",
    "        result=y_pred.reshape(-1,1)\n",
    "        \n",
    "        final_result=float(result)#since it is in 2d array we convert it to float\n",
    "        #calculating percentage\n",
    "        final=round(final_result,4)*100\n",
    "        if final>=60:\n",
    "            str1=\"you can be admitted to the college\"\n",
    "        else:\n",
    "            str1=\"sorry you cannot be admitted\"\n",
    "        \n",
    "        \n",
    "            \n",
    "    return render_template(\"index.html\",value=final,prediction=str1)\n"
   ]
  },
  {
   "cell_type": "code",
   "execution_count": null,
   "id": "7599c3e4",
   "metadata": {},
   "outputs": [
    {
     "name": "stdout",
     "output_type": "stream",
     "text": [
      " * Serving Flask app \"__main__\" (lazy loading)\n",
      " * Environment: production\n",
      "   WARNING: This is a development server. Do not use it in a production deployment.\n",
      "   Use a production WSGI server instead.\n",
      " * Debug mode: off\n"
     ]
    },
    {
     "name": "stderr",
     "output_type": "stream",
     "text": [
      " * Running on http://127.0.0.1:5000/ (Press CTRL+C to quit)\n",
      "127.0.0.1 - - [18/Feb/2023 19:00:58] \"\u001b[37mGET / HTTP/1.1\u001b[0m\" 200 -\n"
     ]
    }
   ],
   "source": [
    "if __name__==\"__main__\":\n",
    "    app.run()"
   ]
  },
  {
   "cell_type": "code",
   "execution_count": null,
   "id": "104d8360",
   "metadata": {},
   "outputs": [],
   "source": []
  }
 ],
 "metadata": {
  "kernelspec": {
   "display_name": "Python 3",
   "language": "python",
   "name": "python3"
  },
  "language_info": {
   "codemirror_mode": {
    "name": "ipython",
    "version": 3
   },
   "file_extension": ".py",
   "mimetype": "text/x-python",
   "name": "python",
   "nbconvert_exporter": "python",
   "pygments_lexer": "ipython3",
   "version": "3.8.8"
  }
 },
 "nbformat": 4,
 "nbformat_minor": 5
}
