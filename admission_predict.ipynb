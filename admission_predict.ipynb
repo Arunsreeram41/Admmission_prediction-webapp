{
 "cells": [
  {
   "cell_type": "markdown",
   "metadata": {},
   "source": [
    "## importing the libraries "
   ]
  },
  {
   "cell_type": "code",
   "execution_count": 1,
   "metadata": {},
   "outputs": [],
   "source": [
    "import numpy as np\n",
    "import matplotlib.pyplot as plt\n",
    "import pandas as pd\n",
    "import pickle"
   ]
  },
  {
   "cell_type": "markdown",
   "metadata": {},
   "source": [
    "## DATASET:"
   ]
  },
  {
   "cell_type": "markdown",
   "metadata": {},
   "source": [
    "The parameters included are :\n",
    "\n",
    "GRE Scores ( out of 340 )\n",
    "\n",
    "TOEFL Scores ( out of 120 )\n",
    "\n",
    "University Rating ( out of 5 )\n",
    "\n",
    "Statement of Purpose and Letter of Recommendation Strength ( out of 5 )\n",
    "\n",
    "Undergraduate GPA ( out of 10 )\n",
    "\n",
    "Research Experience ( either 0 or 1 )\n",
    "\n",
    "Chance of Admit ( ranging from 0 to 1 )"
   ]
  },
  {
   "cell_type": "code",
   "execution_count": 2,
   "metadata": {},
   "outputs": [],
   "source": [
    "dataset = pd.read_csv('Admission_Predict.csv')\n",
    "X = dataset.iloc[:, :-1].values\n",
    "y = dataset.iloc[:, 8].values"
   ]
  },
  {
   "cell_type": "code",
   "execution_count": 3,
   "metadata": {},
   "outputs": [],
   "source": [
    "#Removing Serial\n",
    "X = X[:, 1:]\n",
    "#Split the Dataset to train and test\n",
    "from sklearn.model_selection import train_test_split\n",
    "X_train, X_test, y_train, y_test = train_test_split(X, y, test_size = 0.25, random_state =0)\n",
    "#print(X_test)"
   ]
  },
  {
   "cell_type": "code",
   "execution_count": 4,
   "metadata": {},
   "outputs": [
    {
     "data": {
      "text/plain": [
       "Serial No.           0\n",
       "GRE Score            0\n",
       "TOEFL Score          0\n",
       "University Rating    0\n",
       "SOP                  0\n",
       "LOR                  0\n",
       "CGPA                 0\n",
       "Research             0\n",
       "Chance of Admit      0\n",
       "dtype: int64"
      ]
     },
     "execution_count": 4,
     "metadata": {},
     "output_type": "execute_result"
    }
   ],
   "source": [
    "#Fitting LinearRegression to Training Set\n",
    "from sklearn.linear_model import LinearRegression\n",
    "regressor = LinearRegression()\n",
    "regressor.fit(X_train, y_train)\n",
    "\n",
    "dataset.isnull().sum()"
   ]
  },
  {
   "cell_type": "code",
   "execution_count": 5,
   "metadata": {},
   "outputs": [
    {
     "data": {
      "text/plain": [
       "0.7248631204868361"
      ]
     },
     "execution_count": 5,
     "metadata": {},
     "output_type": "execute_result"
    }
   ],
   "source": [
    "regressor.score(X_test,y_test)\n"
   ]
  },
  {
   "cell_type": "markdown",
   "metadata": {},
   "source": [
    "### creating and loading the regressor model in the pickle file"
   ]
  },
  {
   "cell_type": "code",
   "execution_count": 6,
   "metadata": {},
   "outputs": [],
   "source": [
    "pickle.dump(regressor,open('model.pkl','wb'))#wb->write binary"
   ]
  },
  {
   "cell_type": "code",
   "execution_count": 7,
   "metadata": {},
   "outputs": [
    {
     "name": "stdout",
     "output_type": "stream",
     "text": [
      "[[0.69594583]\n",
      " [0.69531598]\n",
      " [0.77796998]\n",
      " [0.61817989]\n",
      " [0.7247928 ]\n",
      " [0.60218799]\n",
      " [0.71048293]\n",
      " [0.63916573]\n",
      " [0.87559617]\n",
      " [0.92084423]\n",
      " [0.54278379]\n",
      " [0.88353367]\n",
      " [0.71127147]\n",
      " [0.45526426]\n",
      " [0.85402767]\n",
      " [0.62577793]\n",
      " [0.62745089]\n",
      " [0.81617957]\n",
      " [0.58111709]\n",
      " [0.73401949]\n",
      " [0.87706644]\n",
      " [0.84600799]\n",
      " [0.66147497]\n",
      " [0.45433794]\n",
      " [0.78214649]\n",
      " [0.58094677]\n",
      " [0.49275279]\n",
      " [0.64066165]\n",
      " [0.8862293 ]\n",
      " [0.65010191]\n",
      " [0.6374141 ]\n",
      " [0.73790273]\n",
      " [0.73954863]\n",
      " [0.55803217]\n",
      " [0.78493659]\n",
      " [0.77151538]\n",
      " [0.64684602]\n",
      " [0.86369682]\n",
      " [0.62995342]\n",
      " [0.93172217]\n",
      " [0.7242529 ]\n",
      " [0.67437197]\n",
      " [0.70663605]\n",
      " [0.80480939]\n",
      " [0.8322629 ]\n",
      " [0.65270716]\n",
      " [0.56170848]\n",
      " [0.69255255]\n",
      " [0.61063319]\n",
      " [0.60225469]\n",
      " [0.67837763]\n",
      " [0.80482499]\n",
      " [0.64955776]\n",
      " [0.87800506]\n",
      " [0.71994695]\n",
      " [0.75541661]\n",
      " [0.69937068]\n",
      " [0.73054837]\n",
      " [0.75563362]\n",
      " [0.82625047]\n",
      " [0.7774574 ]\n",
      " [0.47372219]\n",
      " [0.63883857]\n",
      " [0.52138549]\n",
      " [0.83966033]\n",
      " [0.8234211 ]\n",
      " [0.74026604]\n",
      " [0.86598401]\n",
      " [0.77176816]\n",
      " [0.7528685 ]\n",
      " [0.59786378]\n",
      " [0.82444918]\n",
      " [0.83095184]\n",
      " [0.60293894]\n",
      " [0.93459122]\n",
      " [0.6302968 ]\n",
      " [0.64015649]\n",
      " [0.64829449]\n",
      " [0.91079168]\n",
      " [0.51341002]\n",
      " [0.72858135]\n",
      " [0.7520219 ]\n",
      " [0.58289827]\n",
      " [0.86116958]\n",
      " [0.59524615]\n",
      " [0.80606635]\n",
      " [0.65950479]\n",
      " [0.72960484]\n",
      " [0.81063316]\n",
      " [0.85205825]\n",
      " [0.77752424]\n",
      " [0.9471064 ]\n",
      " [0.53958997]\n",
      " [0.54929298]\n",
      " [0.84311205]\n",
      " [0.67471754]\n",
      " [0.76943584]\n",
      " [0.62976041]\n",
      " [0.75277662]\n",
      " [0.76345774]]\n"
     ]
    }
   ],
   "source": [
    "#predicting with Test Set\n",
    "y_pred = regressor.predict(X_test)\n",
    "print(y_pred.reshape(-1,1))"
   ]
  },
  {
   "cell_type": "markdown",
   "metadata": {},
   "source": [
    "## Exploratory Data Analysis"
   ]
  },
  {
   "cell_type": "code",
   "execution_count": 8,
   "metadata": {},
   "outputs": [
    {
     "data": {
      "text/plain": [
       "array([[309.  , 105.  ,   5.  ,   3.5 ,   3.5 ,   8.56,   0.  ],\n",
       "       [308.  , 110.  ,   4.  ,   3.5 ,   3.  ,   8.6 ,   0.  ],\n",
       "       [326.  , 110.  ,   3.  ,   3.5 ,   3.5 ,   8.76,   1.  ],\n",
       "       [306.  , 105.  ,   2.  ,   3.  ,   2.5 ,   8.26,   0.  ],\n",
       "       [316.  , 105.  ,   3.  ,   3.  ,   3.5 ,   8.73,   0.  ],\n",
       "       [309.  , 100.  ,   2.  ,   3.  ,   3.  ,   8.1 ,   0.  ],\n",
       "       [312.  , 109.  ,   3.  ,   3.  ,   3.  ,   8.69,   0.  ],\n",
       "       [312.  , 104.  ,   3.  ,   3.5 ,   4.  ,   8.09,   0.  ],\n",
       "       [332.  , 118.  ,   2.  ,   4.5 ,   3.5 ,   9.36,   1.  ],\n",
       "       [331.  , 117.  ,   4.  ,   4.5 ,   5.  ,   9.42,   1.  ],\n",
       "       [300.  , 105.  ,   1.  ,   1.  ,   2.  ,   7.8 ,   0.  ],\n",
       "       [333.  , 113.  ,   5.  ,   4.  ,   4.  ,   9.28,   1.  ],\n",
       "       [320.  , 110.  ,   2.  ,   4.  ,   3.5 ,   8.56,   0.  ],\n",
       "       [302.  ,  99.  ,   1.  ,   2.  ,   2.  ,   7.25,   0.  ],\n",
       "       [328.  , 112.  ,   4.  ,   4.  ,   4.5 ,   9.1 ,   1.  ],\n",
       "       [311.  , 104.  ,   2.  ,   2.  ,   2.  ,   8.3 ,   0.  ],\n",
       "       [312.  ,  98.  ,   1.  ,   3.5 ,   3.  ,   8.18,   1.  ],\n",
       "       [329.  , 110.  ,   2.  ,   4.  ,   3.  ,   9.15,   1.  ],\n",
       "       [315.  ,  99.  ,   2.  ,   3.5 ,   3.  ,   7.89,   0.  ],\n",
       "       [313.  , 107.  ,   3.  ,   4.  ,   4.5 ,   8.69,   0.  ],\n",
       "       [329.  , 119.  ,   4.  ,   4.5 ,   4.5 ,   9.16,   1.  ],\n",
       "       [327.  , 113.  ,   4.  ,   4.5 ,   5.  ,   9.14,   0.  ],\n",
       "       [301.  , 106.  ,   4.  ,   2.5 ,   3.  ,   8.47,   0.  ],\n",
       "       [295.  ,  96.  ,   2.  ,   1.5 ,   2.  ,   7.34,   0.  ],\n",
       "       [320.  , 111.  ,   4.  ,   4.5 ,   3.5 ,   8.87,   1.  ],\n",
       "       [301.  , 100.  ,   3.  ,   3.5 ,   3.  ,   8.04,   0.  ],\n",
       "       [296.  ,  95.  ,   2.  ,   3.  ,   2.  ,   7.54,   1.  ],\n",
       "       [314.  , 105.  ,   3.  ,   3.5 ,   2.5 ,   8.3 ,   0.  ],\n",
       "       [336.  , 118.  ,   5.  ,   4.5 ,   4.  ,   9.19,   1.  ],\n",
       "       [314.  , 106.  ,   2.  ,   4.  ,   3.5 ,   8.25,   0.  ],\n",
       "       [312.  , 101.  ,   2.  ,   2.5 ,   3.5 ,   8.04,   1.  ],\n",
       "       [323.  , 107.  ,   3.  ,   3.5 ,   3.5 ,   8.55,   1.  ],\n",
       "       [312.  , 107.  ,   4.  ,   4.5 ,   4.  ,   8.65,   1.  ],\n",
       "       [296.  ,  99.  ,   2.  ,   2.5 ,   2.5 ,   8.03,   0.  ],\n",
       "       [325.  , 112.  ,   4.  ,   3.5 ,   3.5 ,   8.92,   0.  ],\n",
       "       [327.  , 112.  ,   3.  ,   3.  ,   3.  ,   8.72,   1.  ],\n",
       "       [318.  , 106.  ,   2.  ,   4.  ,   4.  ,   7.92,   1.  ],\n",
       "       [323.  , 113.  ,   4.  ,   4.  ,   4.5 ,   9.23,   1.  ],\n",
       "       [307.  , 102.  ,   3.  ,   3.  ,   3.  ,   8.27,   0.  ],\n",
       "       [333.  , 117.  ,   4.  ,   5.  ,   4.  ,   9.66,   1.  ],\n",
       "       [322.  , 107.  ,   3.  ,   3.5 ,   3.5 ,   8.46,   1.  ],\n",
       "       [314.  , 107.  ,   2.  ,   2.5 ,   4.  ,   8.27,   0.  ],\n",
       "       [321.  , 109.  ,   3.  ,   3.  ,   4.  ,   8.2 ,   1.  ],\n",
       "       [324.  , 107.  ,   4.  ,   4.  ,   4.5 ,   8.87,   1.  ],\n",
       "       [320.  , 120.  ,   3.  ,   4.  ,   4.5 ,   9.11,   0.  ],\n",
       "       [322.  , 110.  ,   3.  ,   3.  ,   3.5 ,   8.  ,   0.  ],\n",
       "       [315.  , 105.  ,   2.  ,   2.  ,   2.5 ,   7.65,   0.  ],\n",
       "       [307.  , 110.  ,   4.  ,   4.  ,   4.5 ,   8.37,   0.  ],\n",
       "       [306.  , 106.  ,   2.  ,   2.  ,   2.5 ,   8.14,   0.  ],\n",
       "       [304.  , 100.  ,   2.  ,   2.5 ,   3.5 ,   8.07,   0.  ],\n",
       "       [311.  , 104.  ,   2.  ,   2.5 ,   3.5 ,   8.48,   0.  ],\n",
       "       [325.  , 112.  ,   2.  ,   3.  ,   3.5 ,   8.96,   1.  ],\n",
       "       [316.  , 101.  ,   2.  ,   2.5 ,   2.  ,   8.32,   1.  ],\n",
       "       [334.  , 117.  ,   5.  ,   4.  ,   4.5 ,   9.07,   1.  ],\n",
       "       [311.  , 102.  ,   3.  ,   4.5 ,   4.  ,   8.64,   1.  ],\n",
       "       [324.  , 111.  ,   3.  ,   2.5 ,   2.  ,   8.8 ,   1.  ],\n",
       "       [334.  , 116.  ,   4.  ,   4.  ,   3.  ,   8.  ,   1.  ],\n",
       "       [325.  , 106.  ,   3.  ,   3.5 ,   4.  ,   8.4 ,   1.  ],\n",
       "       [322.  , 109.  ,   5.  ,   4.5 ,   3.5 ,   8.8 ,   0.  ],\n",
       "       [322.  , 110.  ,   5.  ,   5.  ,   4.  ,   9.1 ,   1.  ],\n",
       "       [314.  , 106.  ,   3.  ,   3.  ,   5.  ,   8.9 ,   0.  ],\n",
       "       [294.  ,  95.  ,   1.  ,   1.5 ,   1.5 ,   7.64,   0.  ],\n",
       "       [314.  , 103.  ,   2.  ,   2.  ,   3.  ,   8.21,   0.  ],\n",
       "       [297.  ,  98.  ,   2.  ,   2.5 ,   3.  ,   7.67,   0.  ],\n",
       "       [323.  , 110.  ,   5.  ,   4.  ,   5.  ,   8.98,   1.  ],\n",
       "       [324.  , 110.  ,   3.  ,   3.5 ,   3.  ,   9.22,   1.  ],\n",
       "       [320.  , 113.  ,   2.  ,   2.  ,   2.5 ,   8.64,   1.  ],\n",
       "       [330.  , 115.  ,   5.  ,   4.5 ,   3.  ,   9.34,   1.  ],\n",
       "       [326.  , 108.  ,   3.  ,   3.  ,   3.5 ,   8.89,   0.  ],\n",
       "       [320.  , 104.  ,   3.  ,   3.  ,   3.5 ,   8.74,   1.  ],\n",
       "       [308.  , 101.  ,   2.  ,   3.  ,   4.  ,   7.9 ,   0.  ],\n",
       "       [327.  , 108.  ,   5.  ,   5.  ,   3.5 ,   9.13,   1.  ],\n",
       "       [318.  , 109.  ,   3.  ,   3.5 ,   4.  ,   9.22,   1.  ],\n",
       "       [312.  , 107.  ,   3.  ,   3.  ,   2.  ,   7.9 ,   1.  ],\n",
       "       [338.  , 117.  ,   4.  ,   3.5 ,   4.5 ,   9.46,   1.  ],\n",
       "       [311.  , 104.  ,   3.  ,   3.5 ,   2.  ,   8.2 ,   1.  ],\n",
       "       [306.  , 103.  ,   2.  ,   2.5 ,   3.  ,   8.36,   0.  ],\n",
       "       [313.  , 106.  ,   2.  ,   2.5 ,   2.  ,   8.43,   0.  ],\n",
       "       [334.  , 116.  ,   4.  ,   4.  ,   3.5 ,   9.54,   1.  ],\n",
       "       [297.  ,  96.  ,   2.  ,   2.5 ,   1.5 ,   7.89,   0.  ],\n",
       "       [319.  , 110.  ,   3.  ,   3.  ,   2.5 ,   8.79,   0.  ],\n",
       "       [325.  , 111.  ,   3.  ,   3.  ,   3.5 ,   8.7 ,   0.  ],\n",
       "       [320.  , 103.  ,   3.  ,   3.  ,   3.  ,   7.7 ,   0.  ],\n",
       "       [329.  , 111.  ,   4.  ,   4.5 ,   4.5 ,   9.18,   1.  ],\n",
       "       [309.  , 106.  ,   2.  ,   2.5 ,   2.5 ,   8.  ,   0.  ],\n",
       "       [324.  , 111.  ,   4.  ,   3.  ,   3.  ,   9.01,   1.  ],\n",
       "       [310.  , 106.  ,   4.  ,   1.5 ,   2.5 ,   8.36,   0.  ],\n",
       "       [321.  , 109.  ,   3.  ,   3.  ,   3.  ,   8.54,   1.  ],\n",
       "       [324.  , 110.  ,   3.  ,   3.5 ,   3.5 ,   9.04,   1.  ],\n",
       "       [326.  , 116.  ,   3.  ,   3.5 ,   4.  ,   9.14,   1.  ],\n",
       "       [322.  , 104.  ,   3.  ,   3.5 ,   4.  ,   8.84,   1.  ],\n",
       "       [335.  , 115.  ,   4.  ,   4.5 ,   4.5 ,   9.68,   1.  ],\n",
       "       [316.  , 102.  ,   3.  ,   2.  ,   3.  ,   7.4 ,   0.  ],\n",
       "       [302.  , 102.  ,   1.  ,   2.  ,   1.5 ,   8.  ,   0.  ],\n",
       "       [324.  , 111.  ,   5.  ,   4.5 ,   4.  ,   9.16,   1.  ],\n",
       "       [315.  , 105.  ,   3.  ,   2.  ,   2.5 ,   8.48,   0.  ],\n",
       "       [314.  , 109.  ,   4.  ,   3.5 ,   4.  ,   8.77,   1.  ],\n",
       "       [314.  , 102.  ,   2.  ,   2.  ,   2.5 ,   8.24,   0.  ],\n",
       "       [325.  , 110.  ,   2.  ,   3.  ,   2.5 ,   8.76,   1.  ],\n",
       "       [313.  , 102.  ,   3.  ,   3.5 ,   4.  ,   8.9 ,   1.  ]])"
      ]
     },
     "execution_count": 8,
     "metadata": {},
     "output_type": "execute_result"
    }
   ],
   "source": [
    "X_test"
   ]
  },
  {
   "cell_type": "code",
   "execution_count": 9,
   "metadata": {},
   "outputs": [
    {
     "data": {
      "text/plain": [
       "LinearRegression()"
      ]
     },
     "execution_count": 9,
     "metadata": {},
     "output_type": "execute_result"
    }
   ],
   "source": [
    "#Plotting Each Independent Variable with the Dependent One\n",
    "#CGPA\n",
    "X_CGPA = X_test[:, 5]\n",
    "X_CGPA = X_CGPA.reshape(-1,1)\n",
    "regressorCGPA = LinearRegression()\n",
    "regressorCGPA.fit(X_CGPA, y_test)"
   ]
  },
  {
   "cell_type": "code",
   "execution_count": 10,
   "metadata": {},
   "outputs": [
    {
     "data": {
      "image/png": "[encoded data removed]",
      "text/plain": [
       "<Figure size 432x288 with 1 Axes>"
      ]
     },
     "metadata": {
      "needs_background": "light"
     },
     "output_type": "display_data"
    },
    {
     "data": {
      "text/plain": [
       "LinearRegression()"
      ]
     },
     "execution_count": 10,
     "metadata": {},
     "output_type": "execute_result"
    }
   ],
   "source": [
    "plt.scatter(X_CGPA, y_test, color = 'red')\n",
    "plt.plot(X_CGPA, regressorCGPA.predict(X_CGPA), color = 'blue')\n",
    "plt.title('CGPA vs Chance of Admission')\n",
    "plt.xlabel('CGPA')\n",
    "plt.ylabel('Chance of Admission')\n",
    "plt.show()\n",
    "#Research as RS\n",
    "X_RS = X_test[:, 6]\n",
    "X_RS = X_RS.reshape(-1,1)\n",
    "regressorRS = LinearRegression()\n",
    "regressorRS.fit(X_RS, y_test)"
   ]
  },
  {
   "cell_type": "code",
   "execution_count": 11,
   "metadata": {},
   "outputs": [
    {
     "data": {
      "image/png": "[encoded data removed]",
      "text/plain": [
       "<Figure size 432x288 with 1 Axes>"
      ]
     },
     "metadata": {
      "needs_background": "light"
     },
     "output_type": "display_data"
    }
   ],
   "source": [
    "plt.scatter(X_RS, y_test, color = 'red')\n",
    "plt.plot(X_RS, regressorRS.predict(X_RS), color = 'blue')\n",
    "plt.title('RS vs Chance of Admission')\n",
    "plt.xlabel('RS')\n",
    "plt.ylabel('Chance of Admission')\n",
    "plt.show()"
   ]
  },
  {
   "cell_type": "code",
   "execution_count": 12,
   "metadata": {},
   "outputs": [
    {
     "data": {
      "text/plain": [
       "LinearRegression()"
      ]
     },
     "execution_count": 12,
     "metadata": {},
     "output_type": "execute_result"
    }
   ],
   "source": [
    "X_LOR = X_test[:, 4]\n",
    "X_LOR = X_LOR.reshape(-1,1)\n",
    "regressorLOR = LinearRegression()\n",
    "regressorLOR.fit(X_LOR, y_test)\n"
   ]
  },
  {
   "cell_type": "code",
   "execution_count": 13,
   "metadata": {},
   "outputs": [
    {
     "data": {
      "image/png": "[encoded data removed]",
      "text/plain": [
       "<Figure size 432x288 with 1 Axes>"
      ]
     },
     "metadata": {
      "needs_background": "light"
     },
     "output_type": "display_data"
    }
   ],
   "source": [
    "plt.scatter(X_LOR, y_test, color = 'red')\n",
    "plt.plot(X_LOR, regressorLOR.predict(X_LOR), color = 'blue')\n",
    "plt.title('LOR vs Chance of Admission')\n",
    "plt.xlabel('LOR')\n",
    "plt.ylabel('Chance of Admission')\n",
    "plt.show()"
   ]
  },
  {
   "cell_type": "code",
   "execution_count": 14,
   "metadata": {},
   "outputs": [
    {
     "data": {
      "text/plain": [
       "LinearRegression()"
      ]
     },
     "execution_count": 14,
     "metadata": {},
     "output_type": "execute_result"
    }
   ],
   "source": [
    "X_TOEFL = X_test[:, 1]\n",
    "X_TOEFL = X_TOEFL.reshape(-1,1)\n",
    "regressorTOEFL = LinearRegression()\n",
    "regressorTOEFL.fit(X_TOEFL, y_test)"
   ]
  },
  {
   "cell_type": "code",
   "execution_count": 15,
   "metadata": {},
   "outputs": [
    {
     "data": {
      "image/png": "[encoded data removed]",
      "text/plain": [
       "<Figure size 432x288 with 1 Axes>"
      ]
     },
     "metadata": {
      "needs_background": "light"
     },
     "output_type": "display_data"
    }
   ],
   "source": [
    "plt.scatter(X_TOEFL, y_test, color = 'red')\n",
    "plt.plot(X_TOEFL, regressorTOEFL.predict(X_TOEFL), color = 'blue')\n",
    "plt.title('TOEFL Score vs Chance of Admission')\n",
    "plt.xlabel('TOEFL Score')\n",
    "plt.ylabel('Chance of Admission')\n",
    "plt.show()"
   ]
  },
  {
   "cell_type": "code",
   "execution_count": 16,
   "metadata": {},
   "outputs": [
    {
     "data": {
      "text/plain": [
       "LinearRegression()"
      ]
     },
     "execution_count": 16,
     "metadata": {},
     "output_type": "execute_result"
    }
   ],
   "source": [
    "X_GRE = X_test[:, 0]\n",
    "X_GRE = X_GRE.reshape(-1,1)\n",
    "regressorGRE = LinearRegression()\n",
    "regressorGRE.fit(X_GRE, y_test)"
   ]
  },
  {
   "cell_type": "code",
   "execution_count": 17,
   "metadata": {},
   "outputs": [
    {
     "data": {
      "image/png": "[encoded data removed]",
      "text/plain": [
       "<Figure size 432x288 with 1 Axes>"
      ]
     },
     "metadata": {
      "needs_background": "light"
     },
     "output_type": "display_data"
    }
   ],
   "source": [
    "plt.scatter(X_GRE, y_test, color = 'red')\n",
    "plt.plot(X_GRE, regressorGRE.predict(X_GRE), color = 'blue')\n",
    "plt.title('GRE vs Chance of Admission')\n",
    "plt.xlabel('GRE')\n",
    "plt.ylabel('Chance of Admission')\n",
    "plt.show()"
   ]
  },
  {
   "cell_type": "markdown",
   "metadata": {},
   "source": [
    "## predicting from user input"
   ]
  },
  {
   "cell_type": "code",
   "execution_count": 18,
   "metadata": {},
   "outputs": [
    {
     "name": "stdout",
     "output_type": "stream",
     "text": [
      "enter GRE score: 310\n",
      "enter TOEFL score: 120\n",
      "enter university rating: 4\n",
      "enter SOP: 4.1\n",
      "enter LOR: 4.2\n",
      "enter CGPA: 9\n",
      "research done?: 0\n"
     ]
    }
   ],
   "source": [
    "GRE_score=int(input(\"enter GRE score: \"))\n",
    "TOEFL_score=int(input(\"enter TOEFL score: \"))\n",
    "university=int(input(\"enter university rating: \"))\n",
    "SOP=float(input(\"enter SOP: \"))\n",
    "LOR=float(input(\"enter LOR: \"))\n",
    "CGPA=float(input(\"enter CGPA: \"))\n",
    "research=int(input(\"research done?: \"))"
   ]
  },
  {
   "cell_type": "code",
   "execution_count": 19,
   "metadata": {},
   "outputs": [
    {
     "name": "stdout",
     "output_type": "stream",
     "text": [
      "[[310, 120, 4, 4.1, 4.2, 9.0, 0]]\n"
     ]
    }
   ],
   "source": [
    "#since X_test is of type list \n",
    "lst=[[GRE_score,TOEFL_score,university,SOP,LOR,CGPA,research]]#since X_test is 2d list\n",
    "print(lst)"
   ]
  },
  {
   "cell_type": "code",
   "execution_count": 20,
   "metadata": {},
   "outputs": [],
   "source": [
    "#predicting with Test Set\n",
    "y_pred = regressor.predict(lst)\n",
    "result=y_pred.reshape(-1,1)"
   ]
  },
  {
   "cell_type": "code",
   "execution_count": 21,
   "metadata": {},
   "outputs": [
    {
     "data": {
      "text/plain": [
       "array([[0.79657568]])"
      ]
     },
     "execution_count": 21,
     "metadata": {},
     "output_type": "execute_result"
    }
   ],
   "source": [
    "result"
   ]
  },
  {
   "cell_type": "code",
   "execution_count": 22,
   "metadata": {},
   "outputs": [
    {
     "name": "stdout",
     "output_type": "stream",
     "text": [
      "<class 'numpy.ndarray'>\n"
     ]
    }
   ],
   "source": [
    "print(type(result))"
   ]
  },
  {
   "cell_type": "code",
   "execution_count": 23,
   "metadata": {},
   "outputs": [
    {
     "name": "stdout",
     "output_type": "stream",
     "text": [
      "79.66\n"
     ]
    }
   ],
   "source": [
    "final_result=float(result)#converting from ndarray to value.,since our dataset has float in target column\n",
    "final=round(final_result,4)*100\n",
    "print(final)"
   ]
  },
  {
   "cell_type": "code",
   "execution_count": null,
   "metadata": {},
   "outputs": [],
   "source": []
  }
 ],
 "metadata": {
  "kernelspec": {
   "display_name": "Python 3",
   "language": "python",
   "name": "python3"
  },
  "language_info": {
   "codemirror_mode": {
    "name": "ipython",
    "version": 3
   },
   "file_extension": ".py",
   "mimetype": "text/x-python",
   "name": "python",
   "nbconvert_exporter": "python",
   "pygments_lexer": "ipython3",
   "version": "3.8.8"
  }
 },
 "nbformat": 4,
 "nbformat_minor": 4
}
